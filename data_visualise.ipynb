{
 "cells": [
  {
   "cell_type": "code",
   "execution_count": null,
   "id": "fe50738d",
   "metadata": {},
   "outputs": [],
   "source": [
    "import pandas as pd\n",
    "sales_df = pd.read_csv(\"superstore_sales_data.csv\")\n",
    "sales_df.head()"
   ]
  }
 ],
 "metadata": {
  "language_info": {
   "name": "python"
  }
 },
 "nbformat": 4,
 "nbformat_minor": 5
}
